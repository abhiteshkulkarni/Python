{
 "cells": [
  {
   "cell_type": "code",
   "execution_count": 1,
   "metadata": {},
   "outputs": [],
   "source": [
    "def sum_number(numbers):\n",
    "    return sum(numbers)\n",
    "def main():\n",
    "    number=[1,2,3,4,5,6,7]\n",
    "    total_number=(sum_number(number))\n",
    "    print (f'The sum of total numbers is %d' % total_number)\n"
   ]
  },
  {
   "cell_type": "code",
   "execution_count": 2,
   "metadata": {},
   "outputs": [
    {
     "name": "stdout",
     "output_type": "stream",
     "text": [
      "The sum of total numbers is 28\n"
     ]
    }
   ],
   "source": [
    "if __name__ == '__main__':\n",
    "    main()"
   ]
  },
  {
   "cell_type": "code",
   "execution_count": 3,
   "metadata": {},
   "outputs": [
    {
     "name": "stdout",
     "output_type": "stream",
     "text": [
      "hello world!\n"
     ]
    }
   ],
   "source": [
    "print (\"hello world!\")"
   ]
  },
  {
   "cell_type": "code",
   "execution_count": 3,
   "metadata": {},
   "outputs": [
    {
     "name": "stdout",
     "output_type": "stream",
     "text": [
      "5 x 1 = 5\n",
      "5 x 2 = 10\n",
      "5 x 3 = 15\n",
      "5 x 4 = 20\n",
      "5 x 5 = 25\n",
      "5 x 6 = 30\n",
      "5 x 7 = 35\n",
      "5 x 8 = 40\n",
      "5 x 9 = 45\n",
      "5 x 10 = 50\n"
     ]
    }
   ],
   "source": [
    "num = 5\n",
    "i=0\n",
    "for i in range(1,11):\n",
    "    print(f'{5} {'x'} {i} = {num*i}')\n"
   ]
  },
  {
   "cell_type": "code",
   "execution_count": null,
   "metadata": {},
   "outputs": [
    {
     "name": "stdout",
     "output_type": "stream",
     "text": [
      "1\n",
      "2\n",
      "3\n",
      "4\n",
      "5\n",
      "6\n",
      "7\n",
      "8\n",
      "9\n",
      "10\n",
      "11\n",
      "12\n",
      "13\n",
      "14\n",
      "15\n",
      "16\n",
      "17\n",
      "18\n",
      "19\n",
      "20\n",
      "21\n",
      "22\n",
      "23\n",
      "24\n",
      "25\n",
      "26\n",
      "27\n",
      "28\n",
      "29\n"
     ]
    }
   ],
   "source": [
    "for i in range(1,31):\n",
    "    print(i)"
   ]
  },
  {
   "cell_type": "code",
   "execution_count": 16,
   "metadata": {},
   "outputs": [
    {
     "name": "stdout",
     "output_type": "stream",
     "text": [
      "$RECYCLE.BIN\n",
      "AK444\n",
      "Databricks-Big-Book-Of-GenAI-FINAL.pdf\n",
      "Program Files\n",
      "Programing\n",
      "Spotify_Clone\n",
      "System Volume Information\n",
      "Web Development\n",
      "WindowsApps\n"
     ]
    }
   ],
   "source": [
    "# Write a python program to print the content of directory using the os module\n",
    "import os\n",
    "# Select the directory whore you want to print the list of files\n",
    "directory_path = '/'\n",
    "# Use os module to list the directory contents\n",
    "contents = os.listdir(directory_path)\n",
    "# Print the list of files\n",
    "for item in contents:\n",
    "    print(item)\n"
   ]
  },
  {
   "cell_type": "code",
   "execution_count": 17,
   "metadata": {},
   "outputs": [
    {
     "name": "stdout",
     "output_type": "stream",
     "text": [
      "<class 'NoneType'>\n"
     ]
    }
   ],
   "source": [
    "e = None\n",
    "print(type(e))"
   ]
  },
  {
   "cell_type": "code",
   "execution_count": 18,
   "metadata": {},
   "outputs": [
    {
     "name": "stdout",
     "output_type": "stream",
     "text": [
      "True\n",
      "True\n",
      "True\n",
      "False\n"
     ]
    }
   ],
   "source": [
    "print(True or True)\n",
    "print(True or False)\n",
    "print(False or True)\n",
    "print(False or False)"
   ]
  },
  {
   "cell_type": "code",
   "execution_count": 19,
   "metadata": {},
   "outputs": [
    {
     "name": "stdout",
     "output_type": "stream",
     "text": [
      "1\n",
      "0\n",
      "0\n",
      "0\n"
     ]
    }
   ],
   "source": [
    "print(1 and 1)\n",
    "print(1 and 0)\n",
    "print(0 and 1)\n",
    "print(0 and 0)"
   ]
  },
  {
   "cell_type": "code",
   "execution_count": 1,
   "metadata": {},
   "outputs": [
    {
     "name": "stdout",
     "output_type": "stream",
     "text": [
      "123.1 <class 'str'>\n",
      "Happy <class 'str'>\n",
      "True <class 'bool'>\n",
      "12 <class 'int'>\n",
      "12.32 <class 'float'>\n"
     ]
    }
   ],
   "source": [
    "a = \"123.1\"\n",
    "b=\"Happy\"\n",
    "c= True\n",
    "e= 12\n",
    "f=12.32\n",
    "print(a,type(a))\n",
    "print(b,type(b))\n",
    "print(c,type(c))\n",
    "print(e,type(e))\n",
    "print(f,type(f))\n"
   ]
  },
  {
   "cell_type": "code",
   "execution_count": 2,
   "metadata": {},
   "outputs": [
    {
     "name": "stdout",
     "output_type": "stream",
     "text": [
      "123.1 <class 'float'>\n"
     ]
    }
   ],
   "source": [
    "a0 = float(a)\n",
    "print(a0,type(a0))"
   ]
  },
  {
   "cell_type": "code",
   "execution_count": 7,
   "metadata": {},
   "outputs": [],
   "source": [
    "a1 = input(\"Enter the 1 number: \")\n",
    "b1 = input(\"Enter the 1 number: \")\n",
    "c1 = (\"Sum of the two numbers:\",a1+b1)\n",
    "c2 = int(a1)+int(b1)"
   ]
  },
  {
   "cell_type": "code",
   "execution_count": 9,
   "metadata": {},
   "outputs": [
    {
     "name": "stdout",
     "output_type": "stream",
     "text": [
      "Sum of the two numbers: ('Sum of the two numbers:', '3454')\n",
      "Sum of the two numbers: 88\n"
     ]
    }
   ],
   "source": [
    "print(\"Sum of the two numbers:\",c1)\n",
    "print(\"Sum of the two numbers:\",c2)"
   ]
  },
  {
   "cell_type": "code",
   "execution_count": 16,
   "metadata": {},
   "outputs": [],
   "source": [
    "a= 12\n",
    "b=12\n",
    "d=36\n",
    "c=\"Sum of the two numbers:\",a+b"
   ]
  },
  {
   "cell_type": "code",
   "execution_count": 14,
   "metadata": {},
   "outputs": [
    {
     "name": "stdout",
     "output_type": "stream",
     "text": [
      "('Sum of the two numbers:', 24)\n"
     ]
    }
   ],
   "source": [
    "print(c)"
   ]
  },
  {
   "cell_type": "code",
   "execution_count": 18,
   "metadata": {},
   "outputs": [
    {
     "name": "stdout",
     "output_type": "stream",
     "text": [
      "Remender of the sum of the two numbers: 12\n",
      "Remender of the sum of the two numbers: 0\n"
     ]
    }
   ],
   "source": [
    "print(\"Remender of the sum of the two numbers:\",b%d)\n",
    "print(\"Remender of the sum of the two numbers:\",d%b)"
   ]
  },
  {
   "cell_type": "code",
   "execution_count": 19,
   "metadata": {},
   "outputs": [
    {
     "name": "stdout",
     "output_type": "stream",
     "text": [
      "<class 'str'>\n"
     ]
    }
   ],
   "source": [
    "print(type(a1))"
   ]
  },
  {
   "cell_type": "code",
   "execution_count": 21,
   "metadata": {},
   "outputs": [
    {
     "name": "stdout",
     "output_type": "stream",
     "text": [
      "<class 'int'>\n"
     ]
    }
   ],
   "source": [
    "print(type(a))"
   ]
  },
  {
   "cell_type": "code",
   "execution_count": 29,
   "metadata": {},
   "outputs": [
    {
     "name": "stdout",
     "output_type": "stream",
     "text": [
      "A is greater than B is False\n",
      "A is less than b\n"
     ]
    }
   ],
   "source": [
    "a= 34\n",
    "b=80\n",
    "print(\"A is greater than B is\",a>b)\n",
    "if(a>b):print(\"A is greater than b\")\n",
    "else:print(\"A is less than b\")"
   ]
  },
  {
   "cell_type": "code",
   "execution_count": 27,
   "metadata": {},
   "outputs": [
    {
     "name": "stdout",
     "output_type": "stream",
     "text": [
      "Average is:  33.0\n"
     ]
    }
   ],
   "source": [
    "num1 = int(input(\"Enter the 1 number: \"))\n",
    "num2 = int(input(\"Enter the 2 number: \"))\n",
    "avg = (num1+num2)/2\n",
    "print(\"Average is: \",avg )"
   ]
  },
  {
   "cell_type": "code",
   "execution_count": 30,
   "metadata": {},
   "outputs": [
    {
     "name": "stdout",
     "output_type": "stream",
     "text": [
      "Square of the number is  144\n"
     ]
    }
   ],
   "source": [
    "a = int(input(\" Enter the number: \"))\n",
    "print(\"Square of the number is \",a**2)"
   ]
  },
  {
   "cell_type": "code",
   "execution_count": null,
   "metadata": {},
   "outputs": [
    {
     "name": "stdout",
     "output_type": "stream",
     "text": [
      "Abhitesh\n",
      "<class 'str'>\n"
     ]
    }
   ],
   "source": [
    "str1 = \"Abhiteshhemantkulkarni\"\n",
    "print(str1[0:8])\n",
    "print(type(str1))"
   ]
  },
  {
   "cell_type": "code",
   "execution_count": 48,
   "metadata": {},
   "outputs": [
    {
     "name": "stdout",
     "output_type": "stream",
     "text": [
      "\n"
     ]
    }
   ],
   "source": [
    "print(str1[-1:-8])"
   ]
  },
  {
   "cell_type": "code",
   "execution_count": 45,
   "metadata": {},
   "outputs": [
    {
     "name": "stdout",
     "output_type": "stream",
     "text": [
      "i\n"
     ]
    }
   ],
   "source": [
    "print(str1[-1])"
   ]
  },
  {
   "cell_type": "code",
   "execution_count": 49,
   "metadata": {},
   "outputs": [
    {
     "name": "stdout",
     "output_type": "stream",
     "text": [
      "bieheat\n"
     ]
    }
   ],
   "source": [
    "print(str1[1:15:2])"
   ]
  },
  {
   "cell_type": "code",
   "execution_count": 50,
   "metadata": {},
   "outputs": [
    {
     "name": "stdout",
     "output_type": "stream",
     "text": [
      "22\n"
     ]
    }
   ],
   "source": [
    "print(len(str1))"
   ]
  },
  {
   "cell_type": "code",
   "execution_count": 51,
   "metadata": {},
   "outputs": [
    {
     "name": "stdout",
     "output_type": "stream",
     "text": [
      "Abhiteshhemantkulkarni\n"
     ]
    }
   ],
   "source": [
    "print(str1.rstrip())"
   ]
  },
  {
   "cell_type": "code",
   "execution_count": 56,
   "metadata": {},
   "outputs": [
    {
     "name": "stdout",
     "output_type": "stream",
     "text": [
      "ABHITESHHEMANTKULKARNI\n",
      "Abhiteshhemantkulkarni\n",
      "abhiteshhemantkulkarni\n",
      "True\n"
     ]
    }
   ],
   "source": [
    "print(str1.upper())\n",
    "print(str1.capitalize())\n",
    "print(str1.lower())\n",
    "# print(str1.index)\n",
    "print(str1.startswith(\"Abhi\"))"
   ]
  },
  {
   "cell_type": "code",
   "execution_count": 57,
   "metadata": {},
   "outputs": [
    {
     "name": "stdout",
     "output_type": "stream",
     "text": [
      "True\n"
     ]
    }
   ],
   "source": [
    "print(str1.endswith(\"karni\"))"
   ]
  },
  {
   "cell_type": "code",
   "execution_count": 58,
   "metadata": {},
   "outputs": [
    {
     "name": "stdout",
     "output_type": "stream",
     "text": [
      "Abhiteshhemantkulkarni\n"
     ]
    }
   ],
   "source": [
    "print(str1.removeprefix('karni'))"
   ]
  },
  {
   "cell_type": "code",
   "execution_count": 61,
   "metadata": {},
   "outputs": [
    {
     "name": "stdout",
     "output_type": "stream",
     "text": [
      "Abhiteshhemantkulpatil\n"
     ]
    }
   ],
   "source": [
    "print(str1.replace('karni','patil'))"
   ]
  },
  {
   "cell_type": "code",
   "execution_count": 62,
   "metadata": {},
   "outputs": [
    {
     "name": "stdout",
     "output_type": "stream",
     "text": [
      "      Abhi        \n"
     ]
    }
   ],
   "source": [
    "str= \"      Abhi        \"\n",
    "print(str.format(str1.capitalize()))"
   ]
  },
  {
   "cell_type": "code",
   "execution_count": 63,
   "metadata": {},
   "outputs": [
    {
     "name": "stdout",
     "output_type": "stream",
     "text": [
      "Abhi        \n"
     ]
    }
   ],
   "source": [
    "print(str.lstrip())"
   ]
  },
  {
   "cell_type": "code",
   "execution_count": 64,
   "metadata": {},
   "outputs": [
    {
     "name": "stdout",
     "output_type": "stream",
     "text": [
      "      Abhi        \n"
     ]
    }
   ],
   "source": [
    "print(str.zfill(5))"
   ]
  },
  {
   "cell_type": "code",
   "execution_count": 67,
   "metadata": {},
   "outputs": [
    {
     "name": "stdout",
     "output_type": "stream",
     "text": [
      "Good Afternoon Abhi\n",
      "Good Afternoon Abhi\n"
     ]
    }
   ],
   "source": [
    "str = input(\"Enter your name:\")\n",
    "print(\"Good Afternoon\",str)\n",
    "print(f\"Good Afternoon {str}\")"
   ]
  },
  {
   "cell_type": "code",
   "execution_count": 73,
   "metadata": {},
   "outputs": [
    {
     "name": "stdout",
     "output_type": "stream",
     "text": [
      "Dear Abhitesh\n",
      "You are selected!\n",
      "10August2024\n"
     ]
    }
   ],
   "source": [
    "letter = \"\"\"Dear <|Name|>\n",
    "You are selected!\n",
    "<|Date|>\"\"\"\n",
    "print( letter.replace(\"<|Name|>\",\"Abhitesh\").replace(\"<|Date|>\",\"10August2024\")) # Chaining"
   ]
  },
  {
   "cell_type": "code",
   "execution_count": 74,
   "metadata": {},
   "outputs": [
    {
     "name": "stdout",
     "output_type": "stream",
     "text": [
      "14\n"
     ]
    }
   ],
   "source": [
    "nm = \"Abhi is a     special     letter... \"\n",
    "print(nm.find(\"special\"))"
   ]
  },
  {
   "cell_type": "code",
   "execution_count": 75,
   "metadata": {},
   "outputs": [
    {
     "name": "stdout",
     "output_type": "stream",
     "text": [
      "Abhi is a special letter... \n"
     ]
    }
   ],
   "source": [
    "print(nm.replace(\"  \",\"\"))"
   ]
  },
  {
   "cell_type": "code",
   "execution_count": 76,
   "metadata": {},
   "outputs": [
    {
     "name": "stdout",
     "output_type": "stream",
     "text": [
      "Dear Abhi, You are selected for ui ux designer in mnc company. conglurations!\n"
     ]
    }
   ],
   "source": [
    "str = \"Dear Abhi, You are selected for ui ux designer in mnc company. conglurations!\"\n",
    "print(str)"
   ]
  },
  {
   "cell_type": "code",
   "execution_count": 77,
   "metadata": {},
   "outputs": [],
   "source": [
    "str = \"Dear Abhi,\\n\\t You are selected for ui ux designer in mnc company.\\n conglurations!\"\n"
   ]
  },
  {
   "cell_type": "code",
   "execution_count": 78,
   "metadata": {},
   "outputs": [
    {
     "name": "stdout",
     "output_type": "stream",
     "text": [
      "Dear Abhi,\n",
      "\t You are selected for ui ux designer in mnc company.\n",
      " conglurations!\n"
     ]
    }
   ],
   "source": [
    "print(str)"
   ]
  },
  {
   "cell_type": "code",
   "execution_count": null,
   "metadata": {},
   "outputs": [
    {
     "name": "stdout",
     "output_type": "stream",
     "text": [
      "Sum of Two Numbers:  60\n"
     ]
    }
   ],
   "source": [
    "a = int(input(\"Enter the two numbers: \"))\n",
    "b = int(input(\"Enter the two numbers: \"))\n",
    "sum = a+b\n",
    "print(\"Sum of Two Numbers:\",sum)"
   ]
  },
  {
   "cell_type": "code",
   "execution_count": 7,
   "metadata": {},
   "outputs": [
    {
     "name": "stdout",
     "output_type": "stream",
     "text": [
      "6 x 0 =0\n",
      "6 x 1 =6\n",
      "6 x 2 =12\n",
      "6 x 3 =18\n",
      "6 x 4 =24\n",
      "6 x 5 =30\n",
      "6 x 6 =36\n",
      "6 x 7 =42\n",
      "6 x 8 =48\n",
      "6 x 9 =54\n",
      "6 x 10 =60\n",
      "6 x 11 =66\n",
      "6 x 12 =72\n",
      "6 x 13 =78\n",
      "6 x 14 =84\n",
      "6 x 15 =90\n",
      "6 x 16 =96\n",
      "6 x 17 =102\n",
      "6 x 18 =108\n",
      "6 x 19 =114\n"
     ]
    }
   ],
   "source": [
    "t = int(input(\"Enter the number: \"))\n",
    "i = 0\n",
    "for i in range(0,20):\n",
    "    print(f'{t} {'x'} {i} ={t*i}')"
   ]
  },
  {
   "cell_type": "code",
   "execution_count": 22,
   "metadata": {},
   "outputs": [
    {
     "name": "stdout",
     "output_type": "stream",
     "text": [
      "19\n"
     ]
    }
   ],
   "source": [
    "for i in range(1,20):\n",
    "    sum =0\n",
    "    sum = sum +i\n",
    "print(sum)\n"
   ]
  },
  {
   "cell_type": "code",
   "execution_count": 27,
   "metadata": {},
   "outputs": [
    {
     "name": "stdout",
     "output_type": "stream",
     "text": [
      "Not prime number1\n",
      "Prime number2\n",
      "Prime number3\n",
      "Not prime number4\n",
      "Prime number5\n",
      "Not prime number6\n",
      "Prime number7\n",
      "Not prime number8\n",
      "Prime number9\n",
      "Not prime number10\n",
      "Prime numbers:  \n",
      "Prime numbers:  \n"
     ]
    }
   ],
   "source": [
    "n = int(input(\"Enter the number: \"))\n",
    "prime_NO =[]\n",
    "Non_prime_NO = []\n",
    "def isPrime(number):\n",
    "    if number < 2:\n",
    "        return False\n",
    "    for i in range(2,int(number**0.5) + 1):\n",
    "        if number % 2 == 0:\n",
    "            return False\n",
    "    return True\n",
    "for i in range(1,n+1):\n",
    "    if isPrime(i):\n",
    "        print(\"Prime number\"+str(i))\n",
    "    else:\n",
    "        print(\"Not prime number\"+str(i))\n",
    "print(\"Prime numbers: \",\",\".join(prime_NO))\n",
    "print(\"Prime numbers: \",\",\".join(Non_prime_NO))"
   ]
  },
  {
   "cell_type": "code",
   "execution_count": 28,
   "metadata": {},
   "outputs": [
    {
     "name": "stdout",
     "output_type": "stream",
     "text": [
      "Square root of the number is:  3\n"
     ]
    }
   ],
   "source": [
    "n = int(input(\"Enter the number: \"))\n",
    "expo = n**0.5\n",
    "print(\"Square root of the number is: \",int(expo))"
   ]
  },
  {
   "cell_type": "code",
   "execution_count": 31,
   "metadata": {},
   "outputs": [
    {
     "name": "stdout",
     "output_type": "stream",
     "text": [
      "Not a prime Number: 1\n",
      "Prime Number: 2\n",
      "Prime Number: 3\n",
      "Not a prime Number: 4\n",
      "Prime Number: 5\n",
      "Not a prime Number: 6\n",
      "Prime Number: 7\n",
      "Not a prime Number: 8\n",
      "Not a prime Number: 9\n",
      "Not a prime Number: 10\n",
      "Prime Number: 11\n",
      "Not a prime Number: 12\n"
     ]
    }
   ],
   "source": [
    "num = int(input(\"Enter the NUmmber : \"))\n",
    "\n",
    "for num in range( 1 ,n+1):\n",
    "    if num < 2:\n",
    "        print(\"Not a prime Number: \"+str(num))\n",
    "        continue\n",
    "    is_prime = True\n",
    "    for i in range(2,int( num **0.5)+1):\n",
    "        if num % i == 0:\n",
    "         is_prime = False\n",
    "         break\n",
    "\n",
    "    if is_prime:\n",
    "       print(\"Prime Number: \"+str(num))\n",
    "    else:\n",
    "       print(\"Not a prime Number: \"+str(num))\n",
    "\n"
   ]
  },
  {
   "cell_type": "code",
   "execution_count": null,
   "metadata": {},
   "outputs": [],
   "source": [
    "n = int(input(\"Enter the number: \"))\n",
    "\n",
    "prime_numbers = []\n",
    "non_prime_numbers = []\n",
    "\n",
    "for num in range(1, n + 1):\n",
    "    if num < 2:\n",
    "        non_prime_numbers.append(str(num))\n",
    "        continue\n",
    "        \n",
    "    is_prime = True\n",
    "    for i in range(2, int(num ** 0.5) + 1):\n",
    "        if num % i == 0:\n",
    "            is_prime = False\n",
    "            break\n",
    "            \n",
    "    if is_prime:\n",
    "        prime_numbers.append(str(num))\n",
    "    else:\n",
    "        non_prime_numbers.append(str(num))\n",
    "\n",
    "print(\"Prime numbers:\", \", \".join(prime_numbers))\n",
    "print(\"Not prime numbers:\", \", \".join(non_prime_numbers))"
   ]
  }
 ],
 "metadata": {
  "kernelspec": {
   "display_name": "Python 3",
   "language": "python",
   "name": "python3"
  },
  "language_info": {
   "codemirror_mode": {
    "name": "ipython",
    "version": 3
   },
   "file_extension": ".py",
   "mimetype": "text/x-python",
   "name": "python",
   "nbconvert_exporter": "python",
   "pygments_lexer": "ipython3",
   "version": "3.12.1"
  }
 },
 "nbformat": 4,
 "nbformat_minor": 2
}
